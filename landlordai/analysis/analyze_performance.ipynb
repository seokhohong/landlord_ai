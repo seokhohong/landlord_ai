{
 "cells": [
  {
   "cell_type": "code",
   "execution_count": 1,
   "metadata": {},
   "outputs": [],
   "source": [
    "import pandas as pd"
   ]
  },
  {
   "cell_type": "code",
   "execution_count": 7,
   "metadata": {},
   "outputs": [],
   "source": [
    "player_stats = '''1679.19122393601 0.6805251641137856 4_13_stream2_model1_142\n",
    "1678.4570691677868 0.6813574261789335 4_13_stream2_model1_141\n",
    "1668.1858484530458 0.6638468388245771 4_13_stream2_model1_108\n",
    "1659.1826520513905 0.6554661618551822 4_13_stream2_model1_95\n",
    "1655.3639952785263 0.6752015173067805 4_13_stream2_model1_150\n",
    "1649.0661805775171 0.6663511594888784 4_13_stream2_model1_105\n",
    "1648.1513390572843 0.6737657308809293 4_13_stream2_model1_127\n",
    "1646.0609333442262 0.6795149415331312 4_13_stream2_model1_147\n",
    "1643.477763428906 0.6583143507972665 4_13_stream2_model1_106\n",
    "1629.3737126522024 0.653966831017481 4_13_stream2_model1_100\n",
    "1616.9897238975957 0.6563318777292576 4_13_stream2_model1_156\n",
    "1616.1975527723698 0.648487626031164 4_13_stream2_model1_96\n",
    "1595.414328167405 0.6530612244897959 4_13_stream2_model1_115\n",
    "1594.291904302408 0.6694796061884669 4_13_stream2_model1_109\n",
    "1590.0074240747022 0.5916978564137462 4_13_stream2_model1_87\n",
    "1561.246995432902 0.5773373545885394 4_13_stream2_model1_82\n",
    "1471.6233129643506 0.5082619339045288 4_13_stream2_model1_114\n",
    "1468.9602902689244 0.4616846105129829 4_13_stream2_model1_54\n",
    "1462.8466729765898 0.47628524046434495 4_13_stream2_model1_52\n",
    "1448.4504626828339 0.49411210551106927 4_13_stream2_model1_28\n",
    "1430.6790523781237 0.4068241469816273 4_13_stream2_model1_38\n",
    "1418.2214991414467 0.44114636642784033 4_13_stream2_model1_44\n",
    "1412.7255767516515 0.5240295748613678 4_13_stream2_model1_55\n",
    "1410.9522208536257 0.4799465240641711 4_13_stream2_model1_42\n",
    "1386.8214545282694 0.35104 4_13_stream2_model1_33\n",
    "1383.4420670793638 0.4183417085427136 4_13_stream2_model1_47\n",
    "1333.4651167865566 0.31261595547309834 4_13_stream2_model1_27\n",
    "1287.903469391599 0.2824601366742597 4_13_stream2_model1_23\n",
    "1196.3281386448318 0.18116619893981914 4_13_stream2_model1_3\n",
    "1158.363280767049 0.15384615384615385 4_13_stream2_model1_6\n",
    "1095.923566771737 0.2064703744093057 random'''"
   ]
  },
  {
   "cell_type": "code",
   "execution_count": 8,
   "metadata": {},
   "outputs": [],
   "source": [
    "rows = []\n",
    "for s in player_stats.split('\\n'):\n",
    "    rows.append(s.split(' '))\n",
    "    \n",
    "for i, row in enumerate(rows):\n",
    "    rows[i][2] = row[2].split('_')[-1]\n",
    "    rows[i][2] = rows[i][2].replace('random', '0')"
   ]
  },
  {
   "cell_type": "code",
   "execution_count": 9,
   "metadata": {},
   "outputs": [],
   "source": [
    "import pandas as pd\n",
    "pd.DataFrame(rows, columns=['ELO', 'win_rate', 'model']).to_csv('elos.csv', index=False)"
   ]
  },
  {
   "cell_type": "code",
   "execution_count": null,
   "metadata": {},
   "outputs": [],
   "source": []
  }
 ],
 "metadata": {
  "kernelspec": {
   "display_name": "Python 3",
   "language": "python",
   "name": "python3"
  },
  "language_info": {
   "codemirror_mode": {
    "name": "ipython",
    "version": 3
   },
   "file_extension": ".py",
   "mimetype": "text/x-python",
   "name": "python",
   "nbconvert_exporter": "python",
   "pygments_lexer": "ipython3",
   "version": "3.7.7"
  }
 },
 "nbformat": 4,
 "nbformat_minor": 2
}
