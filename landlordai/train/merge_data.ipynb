{
 "cells": [
  {
   "cell_type": "code",
   "execution_count": 1,
   "metadata": {},
   "outputs": [],
   "source": [
    "import numpy as np\n",
    "import os\n",
    "\n",
    "import pickle\n",
    "import random\n",
    "from tqdm import tqdm"
   ]
  },
  {
   "cell_type": "code",
   "execution_count": 12,
   "metadata": {},
   "outputs": [
    {
     "data": {
      "text/plain": [
       "'3.7.6 | packaged by conda-forge | (default, Mar 23 2020, 23:03:20) \\n[GCC 7.3.0]'"
      ]
     },
     "execution_count": 12,
     "metadata": {},
     "output_type": "execute_result"
    }
   ],
   "source": [
    "import sys\n",
    "sys.version"
   ]
  },
  {
   "cell_type": "code",
   "execution_count": 2,
   "metadata": {},
   "outputs": [],
   "source": [
    "data_folder = '4_2_sim3'"
   ]
  },
  {
   "cell_type": "code",
   "execution_count": 3,
   "metadata": {},
   "outputs": [
    {
     "name": "stdout",
     "output_type": "stream",
     "text": [
      "Copying gs://landlord_ai/4_2_sim3/0.pkl...\n",
      "Copying gs://landlord_ai/4_2_sim3/1.pkl...                                      \n",
      "Copying gs://landlord_ai/4_2_sim3/10.pkl...\n",
      "Copying gs://landlord_ai/4_2_sim3/11.pkl...                                     \n",
      "Copying gs://landlord_ai/4_2_sim3/12.pkl...                                     \n",
      "Copying gs://landlord_ai/4_2_sim3/13.pkl...                                     \n",
      "Copying gs://landlord_ai/4_2_sim3/14.pkl...\n",
      "Copying gs://landlord_ai/4_2_sim3/15.pkl...ne                                   \n",
      "Copying gs://landlord_ai/4_2_sim3/16.pkl...\n",
      "Copying gs://landlord_ai/4_2_sim3/17.pkl...ne                                   \n",
      "Copying gs://landlord_ai/4_2_sim3/18.pkl...ne                                   \n",
      "Copying gs://landlord_ai/4_2_sim3/19.pkl...ne                                   \n",
      "Copying gs://landlord_ai/4_2_sim3/2.pkl...one                                   \n",
      "Copying gs://landlord_ai/4_2_sim3/20.pkl...ne                                   \n",
      "Copying gs://landlord_ai/4_2_sim3/21.pkl...\n",
      "Copying gs://landlord_ai/4_2_sim3/22.pkl...ne                                   \n",
      "Copying gs://landlord_ai/4_2_sim3/23.pkl...\n",
      "Copying gs://landlord_ai/4_2_sim3/24.pkl...ne                                   \n",
      "Copying gs://landlord_ai/4_2_sim3/25.pkl...ne                                   \n",
      "Copying gs://landlord_ai/4_2_sim3/26.pkl...\n",
      "Copying gs://landlord_ai/4_2_sim3/27.pkl...ne                                   \n",
      "Copying gs://landlord_ai/4_2_sim3/28.pkl...ne                                   \n",
      "Copying gs://landlord_ai/4_2_sim3/29.pkl...ne                                   \n",
      "Copying gs://landlord_ai/4_2_sim3/3.pkl...one                                   \n",
      "Copying gs://landlord_ai/4_2_sim3/30.pkl...ne                                   \n",
      "Copying gs://landlord_ai/4_2_sim3/31.pkl...ne                                   \n",
      "Copying gs://landlord_ai/4_2_sim3/32.pkl...\n",
      "Copying gs://landlord_ai/4_2_sim3/34.pkl...ne                                   \n",
      "Copying gs://landlord_ai/4_2_sim3/33.pkl...\n",
      "Copying gs://landlord_ai/4_2_sim3/7.pkl...\n",
      "Copying gs://landlord_ai/4_2_sim3/35.pkl...\n",
      "Copying gs://landlord_ai/4_2_sim3/4.pkl...one                                   \n",
      "Copying gs://landlord_ai/4_2_sim3/5.pkl...one                                   \n",
      "Copying gs://landlord_ai/4_2_sim3/6.pkl...\n",
      "Copying gs://landlord_ai/4_2_sim3/8.pkl...one                                   \n",
      "Copying gs://landlord_ai/4_2_sim3/9.pkl...one                                   \n",
      "Copying gs://landlord_ai/4_2_sim3/agg_test.pkl...                               \n",
      "Copying gs://landlord_ai/4_2_sim3/agg_train.pkl...\n",
      "| [38/38 files][  6.6 GiB/  6.6 GiB] 100% Done     0.0 B/s                      \n",
      "Operation completed over 38 objects/6.6 GiB.                                     \n"
     ]
    }
   ],
   "source": [
    "assert data_folder is not None\n",
    "!rm -r ../data/$data_folder\n",
    "!gsutil -m cp -r gs://landlord_ai/$data_folder ../data/"
   ]
  },
  {
   "cell_type": "code",
   "execution_count": 4,
   "metadata": {},
   "outputs": [],
   "source": [
    "directories = ['../data/' + data_folder]\n",
    "\n",
    "filenames = []\n",
    "for directory in directories:\n",
    "    filenames.extend([directory + '/' + file for file in os.listdir(directory)])"
   ]
  },
  {
   "cell_type": "code",
   "execution_count": 5,
   "metadata": {},
   "outputs": [],
   "source": [
    "all_history_matrices = []\n",
    "all_move_vectors = []\n",
    "all_hand_vectors = []\n",
    "all_y = []\n",
    "\n",
    "for filename in tqdm(filenames):\n",
    "    with open(filename, 'rb') as f:\n",
    "        history_matrices, move_vectors, hand_vectors, y = pickle.load(f)\n",
    "        \n",
    "    all_history_matrices.extend(history_matrices)\n",
    "    all_move_vectors.extend(move_vectors)\n",
    "    all_hand_vectors.extend(hand_vectors)\n",
    "    all_y.extend(y)"
   ]
  },
  {
   "cell_type": "code",
   "execution_count": 6,
   "metadata": {},
   "outputs": [
    {
     "name": "stderr",
     "output_type": "stream",
     "text": [
      "100%|██████████| 4583979/4583979 [09:21<00:00, 8160.46it/s] \n"
     ]
    },
    {
     "ename": "TypeError",
     "evalue": "only integer scalar arrays can be converted to a scalar index",
     "output_type": "error",
     "traceback": [
      "\u001b[0;31m---------------------------------------------------------------------------\u001b[0m",
      "\u001b[0;31mTypeError\u001b[0m                                 Traceback (most recent call last)",
      "\u001b[0;32m<ipython-input-6-7a6ac6934305>\u001b[0m in \u001b[0;36m<module>\u001b[0;34m\u001b[0m\n\u001b[1;32m      8\u001b[0m \u001b[0;34m\u001b[0m\u001b[0m\n\u001b[1;32m      9\u001b[0m \u001b[0mall_history_matrices\u001b[0m \u001b[0;34m=\u001b[0m \u001b[0mnp\u001b[0m\u001b[0;34m.\u001b[0m\u001b[0marray\u001b[0m\u001b[0;34m(\u001b[0m\u001b[0mdensify\u001b[0m\u001b[0;34m(\u001b[0m\u001b[0mall_history_matrices\u001b[0m\u001b[0;34m)\u001b[0m\u001b[0;34m,\u001b[0m \u001b[0mdtype\u001b[0m\u001b[0;34m=\u001b[0m\u001b[0mnp\u001b[0m\u001b[0;34m.\u001b[0m\u001b[0mint8\u001b[0m\u001b[0;34m)\u001b[0m\u001b[0;34m[\u001b[0m\u001b[0mp\u001b[0m\u001b[0;34m]\u001b[0m\u001b[0;34m\u001b[0m\u001b[0;34m\u001b[0m\u001b[0m\n\u001b[0;32m---> 10\u001b[0;31m \u001b[0mall_move_vectors\u001b[0m \u001b[0;34m=\u001b[0m \u001b[0mall_move_vectors\u001b[0m\u001b[0;34m[\u001b[0m\u001b[0mp\u001b[0m\u001b[0;34m]\u001b[0m\u001b[0;34m\u001b[0m\u001b[0;34m\u001b[0m\u001b[0m\n\u001b[0m\u001b[1;32m     11\u001b[0m \u001b[0mall_hand_vectors\u001b[0m \u001b[0;34m=\u001b[0m \u001b[0mall_hand_vectors\u001b[0m\u001b[0;34m[\u001b[0m\u001b[0mp\u001b[0m\u001b[0;34m]\u001b[0m\u001b[0;34m\u001b[0m\u001b[0;34m\u001b[0m\u001b[0m\n\u001b[1;32m     12\u001b[0m \u001b[0mall_y\u001b[0m \u001b[0;34m=\u001b[0m \u001b[0mnp\u001b[0m\u001b[0;34m.\u001b[0m\u001b[0marray\u001b[0m\u001b[0;34m(\u001b[0m\u001b[0mall_y\u001b[0m\u001b[0;34m)\u001b[0m\u001b[0;34m[\u001b[0m\u001b[0mp\u001b[0m\u001b[0;34m]\u001b[0m\u001b[0;34m\u001b[0m\u001b[0;34m\u001b[0m\u001b[0m\n",
      "\u001b[0;31mTypeError\u001b[0m: only integer scalar arrays can be converted to a scalar index"
     ]
    }
   ],
   "source": [
    "# shuffle all\n",
    "feature_limit = 50\n",
    "            \n",
    "p = np.random.permutation(len(all_history_matrices))\n",
    "\n",
    "def densify(sparse_matrix):\n",
    "    return [x[:feature_limit].todense().astype(np.int8) for x in tqdm(sparse_matrix)]\n",
    "\n",
    "all_history_matrices = np.array(densify(all_history_matrices), dtype=np.int8)[p]"
   ]
  },
  {
   "cell_type": "code",
   "execution_count": 7,
   "metadata": {},
   "outputs": [],
   "source": [
    "all_move_vectors = np.array(all_move_vectors)[p]\n",
    "all_hand_vectors = np.array(all_hand_vectors)[p]\n",
    "all_y = np.array(all_y)[p]"
   ]
  },
  {
   "cell_type": "code",
   "execution_count": 8,
   "metadata": {},
   "outputs": [],
   "source": [
    "from sklearn.model_selection import train_test_split\n",
    "train_hm, test_hm, train_mv, test_mv, train_hv, test_hv, train_y, test_y = \\\n",
    "    train_test_split(all_history_matrices, all_move_vectors, all_hand_vectors, all_y, test_size=0.1)"
   ]
  },
  {
   "cell_type": "code",
   "execution_count": 9,
   "metadata": {},
   "outputs": [],
   "source": [
    "!rm -r ../data/{data_folder}_agg/\n",
    "!mkdir ../data/{data_folder}_agg/"
   ]
  },
  {
   "cell_type": "code",
   "execution_count": 17,
   "metadata": {},
   "outputs": [],
   "source": [
    "with open('../data/' + data_folder + '_agg/train.pkl', 'wb') as f:\n",
    "    pickle.dump((train_hm, train_mv, train_hv, train_y), f, protocol=4)\n",
    "\n",
    "with open('../data/' + data_folder + '_agg/test.pkl', 'wb') as f:\n",
    "    pickle.dump((test_hm, test_mv, test_hv, test_y), f, protocol=4)"
   ]
  },
  {
   "cell_type": "code",
   "execution_count": 18,
   "metadata": {},
   "outputs": [
    {
     "name": "stdout",
     "output_type": "stream",
     "text": [
      "Copying file://../data/4_2_sim3_agg/train.pkl [Content-Type=application/octet-stream]...\n",
      "==> NOTE: You are uploading one or more large file(s), which would run          \n",
      "significantly faster if you enable parallel composite uploads. This\n",
      "feature can be enabled by editing the\n",
      "\"parallel_composite_upload_threshold\" value in your .boto\n",
      "configuration file. However, note that if you do this large files will\n",
      "be uploaded as `composite objects\n",
      "<https://cloud.google.com/storage/docs/composite-objects>`_,which\n",
      "means that any user who downloads such objects will need to have a\n",
      "compiled crcmod installed (see \"gsutil help crcmod\"). This is because\n",
      "without a compiled crcmod, computing checksums on composite objects is\n",
      "so slow that gsutil disables downloads of composite objects.\n",
      "\n",
      "Copying file://../data/4_2_sim3_agg/test.pkl [Content-Type=application/octet-stream]...\n",
      "| [2 files][  5.9 GiB/  5.9 GiB]  103.2 MiB/s                                   \n",
      "Operation completed over 2 objects/5.9 GiB.                                      \n"
     ]
    }
   ],
   "source": [
    "!gsutil cp -r ../data/{data_folder}_agg/ gs://landlord_ai/"
   ]
  },
  {
   "cell_type": "code",
   "execution_count": null,
   "metadata": {},
   "outputs": [],
   "source": []
  }
 ],
 "metadata": {
  "kernelspec": {
   "display_name": "Python 3",
   "language": "python",
   "name": "python3"
  },
  "language_info": {
   "codemirror_mode": {
    "name": "ipython",
    "version": 3
   },
   "file_extension": ".py",
   "mimetype": "text/x-python",
   "name": "python",
   "nbconvert_exporter": "python",
   "pygments_lexer": "ipython3",
   "version": "3.7.6"
  }
 },
 "nbformat": 4,
 "nbformat_minor": 4
}
