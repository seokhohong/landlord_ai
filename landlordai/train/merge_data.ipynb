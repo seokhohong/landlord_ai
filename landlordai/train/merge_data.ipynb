{
 "cells": [
  {
   "cell_type": "code",
   "execution_count": 1,
   "metadata": {},
   "outputs": [],
   "source": [
    "import numpy as np\n",
    "import os\n",
    "\n",
    "import pickle\n",
    "import random\n",
    "from tqdm.notebook import tqdm_notebook"
   ]
  },
  {
   "cell_type": "code",
   "execution_count": 2,
   "metadata": {},
   "outputs": [],
   "source": [
    "data_folder = '4_7_actualq1'"
   ]
  },
  {
   "cell_type": "code",
   "execution_count": 3,
   "metadata": {},
   "outputs": [
    {
     "name": "stdout",
     "output_type": "stream",
     "text": [
      "rm: cannot remove '../data/4_7_actualq1': No such file or directory\n",
      "Copying gs://landlord_ai/4_7_actualq1/0.pkl...\n",
      "Copying gs://landlord_ai/4_7_actualq1/1.pkl...\n",
      "Copying gs://landlord_ai/4_7_actualq1/2.pkl...\n",
      "Copying gs://landlord_ai/4_7_actualq1/3.pkl...\n",
      "Copying gs://landlord_ai/4_7_actualq1/4.pkl...\n",
      "Copying gs://landlord_ai/4_7_actualq1/5.pkl...\n",
      "Copying gs://landlord_ai/4_7_actualq1/7.pkl...\n",
      "Copying gs://landlord_ai/4_7_actualq1/8.pkl...\n",
      "Copying gs://landlord_ai/4_7_actualq1/6.pkl...\n",
      "/ [9/9 files][  2.0 GiB/  2.0 GiB] 100% Done                                    \n",
      "Operation completed over 9 objects/2.0 GiB.                                      \n"
     ]
    }
   ],
   "source": [
    "assert data_folder is not None\n",
    "!rm -r ../data/$data_folder\n",
    "!gsutil -m cp -r gs://landlord_ai/$data_folder ../data/"
   ]
  },
  {
   "cell_type": "code",
   "execution_count": 4,
   "metadata": {},
   "outputs": [],
   "source": [
    "directories = ['../data/' + data_folder]\n",
    "\n",
    "filenames = []\n",
    "for directory in directories:\n",
    "    filenames.extend([directory + '/' + file for file in os.listdir(directory)])"
   ]
  },
  {
   "cell_type": "code",
   "execution_count": 5,
   "metadata": {},
   "outputs": [
    {
     "data": {
      "application/vnd.jupyter.widget-view+json": {
       "model_id": "39bf687990604c1694967e5542fa48df",
       "version_major": 2,
       "version_minor": 0
      },
      "text/plain": [
       "HBox(children=(FloatProgress(value=0.0, max=9.0), HTML(value='')))"
      ]
     },
     "metadata": {},
     "output_type": "display_data"
    },
    {
     "name": "stdout",
     "output_type": "stream",
     "text": [
      "\n"
     ]
    }
   ],
   "source": [
    "all_history_matrices = []\n",
    "all_move_vectors = []\n",
    "all_hand_vectors = []\n",
    "all_y = []\n",
    "\n",
    "for filename in tqdm_notebook(filenames):\n",
    "    with open(filename, 'rb') as f:\n",
    "        history_matrices, move_vectors, hand_vectors, y = pickle.load(f)\n",
    "        \n",
    "    all_history_matrices.extend(history_matrices)\n",
    "    all_move_vectors.extend(move_vectors)\n",
    "    all_hand_vectors.extend(hand_vectors)\n",
    "    all_y.extend(y)"
   ]
  },
  {
   "cell_type": "code",
   "execution_count": 6,
   "metadata": {},
   "outputs": [
    {
     "data": {
      "application/vnd.jupyter.widget-view+json": {
       "model_id": "9d7b11e8e4bf4a329dbf11734b0a968e",
       "version_major": 2,
       "version_minor": 0
      },
      "text/plain": [
       "HBox(children=(FloatProgress(value=0.0, max=1407427.0), HTML(value='')))"
      ]
     },
     "metadata": {},
     "output_type": "display_data"
    },
    {
     "name": "stdout",
     "output_type": "stream",
     "text": [
      "\n"
     ]
    }
   ],
   "source": [
    "# shuffle all\n",
    "feature_limit = 70\n",
    "\n",
    "def densify(sparse_matrix):\n",
    "    return [x[:feature_limit].todense().astype(np.int8) for x in tqdm_notebook(sparse_matrix)]\n",
    "\n",
    "all_history_matrices = np.array(densify(all_history_matrices), dtype=np.int8)"
   ]
  },
  {
   "cell_type": "code",
   "execution_count": 7,
   "metadata": {},
   "outputs": [],
   "source": [
    "all_move_vectors = np.array(all_move_vectors)\n",
    "all_hand_vectors = np.array(all_hand_vectors)\n",
    "all_y = np.array(all_y)"
   ]
  },
  {
   "cell_type": "code",
   "execution_count": 8,
   "metadata": {},
   "outputs": [],
   "source": [
    "from sklearn.model_selection import train_test_split\n",
    "train_hm, test_hm, train_mv, test_mv, train_hv, test_hv, train_y, test_y = \\\n",
    "    train_test_split(all_history_matrices, all_move_vectors, all_hand_vectors, all_y, test_size=0.1, shuffle=True)"
   ]
  },
  {
   "cell_type": "code",
   "execution_count": 9,
   "metadata": {},
   "outputs": [
    {
     "name": "stdout",
     "output_type": "stream",
     "text": [
      "rm: cannot remove '../data/4_7_actualq1_agg/': No such file or directory\n"
     ]
    }
   ],
   "source": [
    "!rm -r ../data/{data_folder}_agg/\n",
    "!mkdir ../data/{data_folder}_agg/"
   ]
  },
  {
   "cell_type": "code",
   "execution_count": 11,
   "metadata": {},
   "outputs": [],
   "source": [
    "with open('../data/' + data_folder + '_agg/train.pkl', 'wb') as f:\n",
    "    pickle.dump((train_hm, train_mv, train_hv, train_y), f, protocol=4)\n",
    "\n",
    "with open('../data/' + data_folder + '_agg/test.pkl', 'wb') as f:\n",
    "    pickle.dump((test_hm, test_mv, test_hv, test_y), f, protocol=4)"
   ]
  },
  {
   "cell_type": "code",
   "execution_count": 12,
   "metadata": {},
   "outputs": [
    {
     "name": "stdout",
     "output_type": "stream",
     "text": [
      "Copying file://../data/4_7_actualq1_agg/train.pkl [Content-Type=application/octet-stream]...\n",
      "==> NOTE: You are uploading one or more large file(s), which would run          \n",
      "significantly faster if you enable parallel composite uploads. This\n",
      "feature can be enabled by editing the\n",
      "\"parallel_composite_upload_threshold\" value in your .boto\n",
      "configuration file. However, note that if you do this large files will\n",
      "be uploaded as `composite objects\n",
      "<https://cloud.google.com/storage/docs/composite-objects>`_,which\n",
      "means that any user who downloads such objects will need to have a\n",
      "compiled crcmod installed (see \"gsutil help crcmod\"). This is because\n",
      "without a compiled crcmod, computing checksums on composite objects is\n",
      "so slow that gsutil disables downloads of composite objects.\n",
      "\n",
      "Copying file://../data/4_7_actualq1_agg/test.pkl [Content-Type=application/octet-stream]...\n",
      "\\ [2 files][  2.4 GiB/  2.4 GiB]   92.2 MiB/s                                   \n",
      "Operation completed over 2 objects/2.4 GiB.                                      \n"
     ]
    }
   ],
   "source": [
    "!gsutil cp -r ../data/{data_folder}_agg/ gs://landlord_ai/"
   ]
  },
  {
   "cell_type": "code",
   "execution_count": null,
   "metadata": {},
   "outputs": [],
   "source": []
  }
 ],
 "metadata": {
  "kernelspec": {
   "display_name": "Python 3",
   "language": "python",
   "name": "python3"
  },
  "language_info": {
   "codemirror_mode": {
    "name": "ipython",
    "version": 3
   },
   "file_extension": ".py",
   "mimetype": "text/x-python",
   "name": "python",
   "nbconvert_exporter": "python",
   "pygments_lexer": "ipython3",
   "version": "3.7.6"
  }
 },
 "nbformat": 4,
 "nbformat_minor": 4
}
