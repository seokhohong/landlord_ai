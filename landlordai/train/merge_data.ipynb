{
 "cells": [
  {
   "cell_type": "code",
   "execution_count": 4,
   "metadata": {},
   "outputs": [
    {
     "name": "stderr",
     "output_type": "stream",
     "text": [
      "Using TensorFlow backend.\n"
     ]
    }
   ],
   "source": [
    "import keras\n",
    "from keras.utils import Sequence\n",
    "import numpy as np\n",
    "from keras.layers import *\n",
    "from keras.losses import mean_squared_error\n",
    "from keras.callbacks import *\n",
    "import os\n",
    "\n",
    "import pickle\n",
    "import random\n",
    "from tqdm import tqdm\n",
    "\n",
    "from landlordai.game.player import LearningPlayer_v1"
   ]
  },
  {
   "cell_type": "code",
   "execution_count": 5,
   "metadata": {},
   "outputs": [],
   "source": [
    "data_folder = '4_2_sim3'"
   ]
  },
  {
   "cell_type": "code",
   "execution_count": 6,
   "metadata": {},
   "outputs": [],
   "source": [
    "\n",
    "directories = ['../data/' + data_folder]\n",
    "\n",
    "filenames = []\n",
    "for directory in directories:\n",
    "    filenames.extend([directory + '/' + file for file in os.listdir(directory)])"
   ]
  },
  {
   "cell_type": "code",
   "execution_count": null,
   "metadata": {},
   "outputs": [],
   "source": [
    "all_history_matrices = []\n",
    "all_move_vectors = []\n",
    "all_hand_vectors = []\n",
    "all_y = []\n",
    "\n",
    "for filename in filenames:\n",
    "    with open(filename, 'rb') as f:\n",
    "        history_matrices, move_vectors, hand_vectors, y = pickle.load(f)\n",
    "        \n",
    "    all_history_matrices.append(history_matrices)\n",
    "    all_move_vectors.append(move_vectors)\n",
    "    all_hand_vectors.append(hand_vectors)\n",
    "    all_y.append(y)"
   ]
  }
 ],
 "metadata": {
  "kernelspec": {
   "display_name": "Python 3",
   "language": "python",
   "name": "python3"
  },
  "language_info": {
   "codemirror_mode": {
    "name": "ipython",
    "version": 3
   },
   "file_extension": ".py",
   "mimetype": "text/x-python",
   "name": "python",
   "nbconvert_exporter": "python",
   "pygments_lexer": "ipython3",
   "version": "3.7.6"
  }
 },
 "nbformat": 4,
 "nbformat_minor": 4
}
