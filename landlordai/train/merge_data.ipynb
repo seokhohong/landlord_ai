{
 "cells": [
  {
   "cell_type": "code",
   "execution_count": 1,
   "metadata": {},
   "outputs": [],
   "source": [
    "import numpy as np\n",
    "import os\n",
    "\n",
    "import pickle\n",
    "import random\n",
    "from tqdm import tqdm"
   ]
  },
  {
   "cell_type": "code",
   "execution_count": 12,
   "metadata": {},
   "outputs": [
    {
     "data": {
      "text/plain": [
       "'3.7.6 | packaged by conda-forge | (default, Mar 23 2020, 23:03:20) \\n[GCC 7.3.0]'"
      ]
     },
     "execution_count": 12,
     "metadata": {},
     "output_type": "execute_result"
    }
   ],
   "source": [
    "import sys\n",
    "sys.version"
   ]
  },
  {
   "cell_type": "code",
   "execution_count": 2,
   "metadata": {},
   "outputs": [],
   "source": [
    "data_folder = '4_2_sim4'"
   ]
  },
  {
   "cell_type": "code",
   "execution_count": 3,
   "metadata": {},
   "outputs": [
    {
     "name": "stdout",
     "output_type": "stream",
     "text": [
      "rm: cannot remove '../data/4_2_sim4': No such file or directory\n",
      "Copying gs://landlord_ai/4_2_sim4/0.pkl...\n",
      "Copying gs://landlord_ai/4_2_sim4/1.pkl...\n",
      "Copying gs://landlord_ai/4_2_sim4/10.pkl...\n",
      "Copying gs://landlord_ai/4_2_sim4/11.pkl...ne                                   \n",
      "Copying gs://landlord_ai/4_2_sim4/12.pkl...ne                                   \n",
      "Copying gs://landlord_ai/4_2_sim4/15.pkl...ne                                   \n",
      "Copying gs://landlord_ai/4_2_sim4/13.pkl...\n",
      "Copying gs://landlord_ai/4_2_sim4/16.pkl...\n",
      "Copying gs://landlord_ai/4_2_sim4/17.pkl...\n",
      "Copying gs://landlord_ai/4_2_sim4/21.pkl...ne                                   \n",
      "Copying gs://landlord_ai/4_2_sim4/14.pkl...ne                                   \n",
      "Copying gs://landlord_ai/4_2_sim4/18.pkl...ne                                   \n",
      "Copying gs://landlord_ai/4_2_sim4/2.pkl...one                                   \n",
      "Copying gs://landlord_ai/4_2_sim4/19.pkl...\n",
      "Copying gs://landlord_ai/4_2_sim4/20.pkl...ne                                   \n",
      "Copying gs://landlord_ai/4_2_sim4/22.pkl...ne                                   \n",
      "Copying gs://landlord_ai/4_2_sim4/23.pkl...ne                                   \n",
      "Copying gs://landlord_ai/4_2_sim4/24.pkl...\n",
      "Copying gs://landlord_ai/4_2_sim4/25.pkl...ne                                   \n",
      "Copying gs://landlord_ai/4_2_sim4/26.pkl...ne                                   \n",
      "Copying gs://landlord_ai/4_2_sim4/27.pkl...\n",
      "Copying gs://landlord_ai/4_2_sim4/28.pkl...ne                                   \n",
      "Copying gs://landlord_ai/4_2_sim4/29.pkl...\n",
      "Copying gs://landlord_ai/4_2_sim4/36.pkl...\n",
      "Copying gs://landlord_ai/4_2_sim4/31.pkl...ne                                   \n",
      "Copying gs://landlord_ai/4_2_sim4/3.pkl...\n",
      "Copying gs://landlord_ai/4_2_sim4/37.pkl...\n",
      "Copying gs://landlord_ai/4_2_sim4/30.pkl...ne                                   \n",
      "Copying gs://landlord_ai/4_2_sim4/32.pkl...\n",
      "Copying gs://landlord_ai/4_2_sim4/38.pkl...ne                                   \n",
      "Copying gs://landlord_ai/4_2_sim4/33.pkl...ne                                   \n",
      "Copying gs://landlord_ai/4_2_sim4/34.pkl...ne                                   \n",
      "Copying gs://landlord_ai/4_2_sim4/4.pkl...\n",
      "Copying gs://landlord_ai/4_2_sim4/35.pkl...\n",
      "Copying gs://landlord_ai/4_2_sim4/39.pkl...\n",
      "Copying gs://landlord_ai/4_2_sim4/40.pkl...\n",
      "Copying gs://landlord_ai/4_2_sim4/41.pkl...ne                                   \n",
      "Copying gs://landlord_ai/4_2_sim4/42.pkl...ne                                   \n",
      "Copying gs://landlord_ai/4_2_sim4/44.pkl...ne                                   \n",
      "Copying gs://landlord_ai/4_2_sim4/43.pkl...ne                                   \n",
      "Copying gs://landlord_ai/4_2_sim4/45.pkl...ne                                   \n",
      "Copying gs://landlord_ai/4_2_sim4/46.pkl...ne     0.0 B/s                       \n",
      "Copying gs://landlord_ai/4_2_sim4/47.pkl...ne     0.0 B/s                       \n",
      "Copying gs://landlord_ai/4_2_sim4/48.pkl...ne     0.0 B/s                       \n",
      "Copying gs://landlord_ai/4_2_sim4/49.pkl...ne  41.4 MiB/s ETA 00:01:07          \n",
      "Copying gs://landlord_ai/4_2_sim4/50.pkl...\n",
      "Copying gs://landlord_ai/4_2_sim4/5.pkl...\n",
      "Copying gs://landlord_ai/4_2_sim4/51.pkl...one 249.1 MiB/s ETA 00:00:10         \n",
      "Copying gs://landlord_ai/4_2_sim4/52.pkl...one 249.0 MiB/s ETA 00:00:10         \n",
      "Copying gs://landlord_ai/4_2_sim4/53.pkl...one 249.0 MiB/s ETA 00:00:10         \n",
      "Copying gs://landlord_ai/4_2_sim4/54.pkl...\n",
      "Copying gs://landlord_ai/4_2_sim4/55.pkl...one 287.6 MiB/s ETA 00:00:07         \n",
      "Copying gs://landlord_ai/4_2_sim4/56.pkl...one 287.9 MiB/s ETA 00:00:07         \n",
      "Copying gs://landlord_ai/4_2_sim4/57.pkl...one 319.9 MiB/s ETA 00:00:05         \n",
      "Copying gs://landlord_ai/4_2_sim4/58.pkl...one 319.7 MiB/s ETA 00:00:05         \n",
      "Copying gs://landlord_ai/4_2_sim4/59.pkl...one 319.3 MiB/s ETA 00:00:05         \n",
      "Copying gs://landlord_ai/4_2_sim4/60.pkl...\n",
      "Copying gs://landlord_ai/4_2_sim4/6.pkl...\n",
      "Copying gs://landlord_ai/4_2_sim4/61.pkl...\n",
      "Copying gs://landlord_ai/4_2_sim4/62.pkl...one 130.1 MiB/s ETA 00:00:08         \n",
      "Copying gs://landlord_ai/4_2_sim4/64.pkl...\n",
      "Copying gs://landlord_ai/4_2_sim4/66.pkl...\n",
      "Copying gs://landlord_ai/4_2_sim4/7.pkl...\n",
      "Copying gs://landlord_ai/4_2_sim4/65.pkl...\n",
      "Copying gs://landlord_ai/4_2_sim4/63.pkl...\n",
      "Copying gs://landlord_ai/4_2_sim4/8.pkl...Done 127.0 MiB/s ETA 00:00:07         \n",
      "Copying gs://landlord_ai/4_2_sim4/9.pkl...Done 381.1 MiB/s ETA 00:00:00         \n",
      "/ [67/67 files][  7.7 GiB/  7.7 GiB] 100% Done     0.0 B/s                      \n",
      "Operation completed over 67 objects/7.7 GiB.                                     \n"
     ]
    }
   ],
   "source": [
    "assert data_folder is not None\n",
    "!rm -r ../data/$data_folder\n",
    "!gsutil -m cp -r gs://landlord_ai/$data_folder ../data/"
   ]
  },
  {
   "cell_type": "code",
   "execution_count": 5,
   "metadata": {},
   "outputs": [],
   "source": [
    "directories = ['../data/' + data_folder]\n",
    "\n",
    "filenames = []\n",
    "for directory in directories:\n",
    "    filenames.extend([directory + '/' + file for file in os.listdir(directory)])"
   ]
  },
  {
   "cell_type": "code",
   "execution_count": 6,
   "metadata": {},
   "outputs": [
    {
     "name": "stderr",
     "output_type": "stream",
     "text": [
      "100%|██████████| 67/67 [01:49<00:00,  1.64s/it]\n"
     ]
    }
   ],
   "source": [
    "all_history_matrices = []\n",
    "all_move_vectors = []\n",
    "all_hand_vectors = []\n",
    "all_y = []\n",
    "\n",
    "for filename in tqdm(filenames):\n",
    "    with open(filename, 'rb') as f:\n",
    "        history_matrices, move_vectors, hand_vectors, y = pickle.load(f)\n",
    "        \n",
    "    all_history_matrices.extend(history_matrices)\n",
    "    all_move_vectors.extend(move_vectors)\n",
    "    all_hand_vectors.extend(hand_vectors)\n",
    "    all_y.extend(y)"
   ]
  },
  {
   "cell_type": "code",
   "execution_count": 7,
   "metadata": {},
   "outputs": [
    {
     "name": "stderr",
     "output_type": "stream",
     "text": [
      "100%|██████████| 5324569/5324569 [10:59<00:00, 8075.84it/s] \n"
     ]
    }
   ],
   "source": [
    "# shuffle all\n",
    "feature_limit = 50\n",
    "            \n",
    "p = np.random.permutation(len(all_history_matrices))\n",
    "\n",
    "def densify(sparse_matrix):\n",
    "    return [x[:feature_limit].todense().astype(np.int8) for x in tqdm(sparse_matrix)]\n",
    "\n",
    "all_history_matrices = np.array(densify(all_history_matrices), dtype=np.int8)[p]"
   ]
  },
  {
   "cell_type": "code",
   "execution_count": 8,
   "metadata": {},
   "outputs": [],
   "source": [
    "all_move_vectors = np.array(all_move_vectors)[p]\n",
    "all_hand_vectors = np.array(all_hand_vectors)[p]\n",
    "all_y = np.array(all_y)[p]"
   ]
  },
  {
   "cell_type": "code",
   "execution_count": 9,
   "metadata": {},
   "outputs": [],
   "source": [
    "from sklearn.model_selection import train_test_split\n",
    "train_hm, test_hm, train_mv, test_mv, train_hv, test_hv, train_y, test_y = \\\n",
    "    train_test_split(all_history_matrices, all_move_vectors, all_hand_vectors, all_y, test_size=0.1)"
   ]
  },
  {
   "cell_type": "code",
   "execution_count": 10,
   "metadata": {},
   "outputs": [],
   "source": [
    "!rm -r ../data/{data_folder}_agg/\n",
    "!mkdir ../data/{data_folder}_agg/"
   ]
  },
  {
   "cell_type": "code",
   "execution_count": 11,
   "metadata": {},
   "outputs": [],
   "source": [
    "with open('../data/' + data_folder + '_agg/train.pkl', 'wb') as f:\n",
    "    pickle.dump((train_hm, train_mv, train_hv, train_y), f, protocol=4)\n",
    "\n",
    "with open('../data/' + data_folder + '_agg/test.pkl', 'wb') as f:\n",
    "    pickle.dump((test_hm, test_mv, test_hv, test_y), f, protocol=4)"
   ]
  },
  {
   "cell_type": "code",
   "execution_count": 12,
   "metadata": {},
   "outputs": [
    {
     "name": "stdout",
     "output_type": "stream",
     "text": [
      "Copying file://../data/4_2_sim4_agg/train.pkl [Content-Type=application/octet-stream]...\n",
      "==> NOTE: You are uploading one or more large file(s), which would run          \n",
      "significantly faster if you enable parallel composite uploads. This\n",
      "feature can be enabled by editing the\n",
      "\"parallel_composite_upload_threshold\" value in your .boto\n",
      "configuration file. However, note that if you do this large files will\n",
      "be uploaded as `composite objects\n",
      "<https://cloud.google.com/storage/docs/composite-objects>`_,which\n",
      "means that any user who downloads such objects will need to have a\n",
      "compiled crcmod installed (see \"gsutil help crcmod\"). This is because\n",
      "without a compiled crcmod, computing checksums on composite objects is\n",
      "so slow that gsutil disables downloads of composite objects.\n",
      "\n",
      "Copying file://../data/4_2_sim4_agg/test.pkl [Content-Type=application/octet-stream]...\n",
      "\\ [2 files][  6.8 GiB/  6.8 GiB]  110.6 MiB/s                                   \n",
      "Operation completed over 2 objects/6.8 GiB.                                      \n"
     ]
    }
   ],
   "source": [
    "!gsutil cp -r ../data/{data_folder}_agg/ gs://landlord_ai/"
   ]
  },
  {
   "cell_type": "code",
   "execution_count": null,
   "metadata": {},
   "outputs": [],
   "source": []
  }
 ],
 "metadata": {
  "kernelspec": {
   "display_name": "Python 3",
   "language": "python",
   "name": "python3"
  },
  "language_info": {
   "codemirror_mode": {
    "name": "ipython",
    "version": 3
   },
   "file_extension": ".py",
   "mimetype": "text/x-python",
   "name": "python",
   "nbconvert_exporter": "python",
   "pygments_lexer": "ipython3",
   "version": "3.7.6"
  }
 },
 "nbformat": 4,
 "nbformat_minor": 4
}
