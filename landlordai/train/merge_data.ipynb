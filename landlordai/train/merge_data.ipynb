{
 "cells": [
  {
   "cell_type": "code",
   "execution_count": 2,
   "metadata": {},
   "outputs": [],
   "source": [
    "import numpy as np\n",
    "import os\n",
    "\n",
    "import pickle\n",
    "import random\n",
    "import subprocess\n",
    "from tqdm.notebook import tqdm_notebook"
   ]
  },
  {
   "cell_type": "code",
   "execution_count": 9,
   "metadata": {},
   "outputs": [],
   "source": [
    "output_folder = '4_10_actualq2'\n",
    "data_folders = [output_folder]"
   ]
  },
  {
   "cell_type": "code",
   "execution_count": 3,
   "metadata": {},
   "outputs": [],
   "source": [
    "for data_folder in data_folders:\n",
    "    try:\n",
    "        subprocess.check_output(['rm', '-r', '../data/' + data_folder])\n",
    "    except Exception as e:\n",
    "        print(e)\n",
    "    subprocess.check_output(['gsutil', '-m', 'cp', '-r', 'gs://landlord_ai/' + data_folder, '../data/'])"
   ]
  },
  {
   "cell_type": "code",
   "execution_count": 10,
   "metadata": {},
   "outputs": [],
   "source": [
    "directories = ['../data/' + data_folder for data_folder in data_folders]\n",
    "\n",
    "filenames = []\n",
    "for directory in directories:\n",
    "    filenames.extend([directory + '/' + file for file in os.listdir(directory) if file.endswith('.pkl')])"
   ]
  },
  {
   "cell_type": "code",
   "execution_count": 11,
   "metadata": {},
   "outputs": [
    {
     "data": {
      "application/vnd.jupyter.widget-view+json": {
       "model_id": "ea8d8aa9149b40e7aca9a29a784b8794",
       "version_major": 2,
       "version_minor": 0
      },
      "text/plain": [
       "HBox(children=(FloatProgress(value=0.0, max=24.0), HTML(value='')))"
      ]
     },
     "metadata": {},
     "output_type": "display_data"
    },
    {
     "name": "stdout",
     "output_type": "stream",
     "text": [
      "\n"
     ]
    }
   ],
   "source": [
    "all_history_matrices = []\n",
    "all_move_vectors = []\n",
    "all_hand_vectors = []\n",
    "all_y = []\n",
    "\n",
    "for filename in tqdm_notebook(filenames):\n",
    "    with open(filename, 'rb') as f:\n",
    "        history_matrices, move_vectors, hand_vectors, y = pickle.load(f)\n",
    "        \n",
    "    all_history_matrices.extend(history_matrices)\n",
    "    all_move_vectors.extend(move_vectors)\n",
    "    all_hand_vectors.extend(hand_vectors)\n",
    "    all_y.extend(y)"
   ]
  },
  {
   "cell_type": "code",
   "execution_count": 12,
   "metadata": {},
   "outputs": [
    {
     "data": {
      "application/vnd.jupyter.widget-view+json": {
       "model_id": "6ffd15e32194480b84553581514d0eea",
       "version_major": 2,
       "version_minor": 0
      },
      "text/plain": [
       "HBox(children=(FloatProgress(value=0.0, max=7912498.0), HTML(value='')))"
      ]
     },
     "metadata": {},
     "output_type": "display_data"
    },
    {
     "name": "stdout",
     "output_type": "stream",
     "text": [
      "\n"
     ]
    }
   ],
   "source": [
    "# shuffle all\n",
    "feature_limit = 70\n",
    "\n",
    "def densify(sparse_matrix):\n",
    "    return [x[:feature_limit].todense().astype(np.int8) for x in tqdm_notebook(sparse_matrix)]\n",
    "\n",
    "all_history_matrices = np.array(densify(all_history_matrices), dtype=np.int8)"
   ]
  },
  {
   "cell_type": "code",
   "execution_count": 13,
   "metadata": {},
   "outputs": [],
   "source": [
    "all_move_vectors = np.array(all_move_vectors, dtype=np.int8)\n",
    "all_hand_vectors = np.array(all_hand_vectors, dtype=np.int8)\n",
    "all_y = np.array(all_y, dtype=np.float32)\n"
   ]
  },
  {
   "cell_type": "code",
   "execution_count": 15,
   "metadata": {},
   "outputs": [],
   "source": [
    "slice = all_history_matrices[:, feature_limit - 1]"
   ]
  },
  {
   "cell_type": "code",
   "execution_count": 22,
   "metadata": {},
   "outputs": [
    {
     "data": {
      "text/plain": [
       "148"
      ]
     },
     "execution_count": 22,
     "metadata": {},
     "output_type": "execute_result"
    }
   ],
   "source": [
    "len(np.sum(slice, axis=1).nonzero()[0])"
   ]
  },
  {
   "cell_type": "code",
   "execution_count": 14,
   "metadata": {},
   "outputs": [],
   "source": [
    "np.savez('../data/' + output_folder + '/all.npz', \n",
    "         history_matrix=all_history_matrices,\n",
    "         move_vectors=all_move_vectors,\n",
    "         hand_vectors=all_hand_vectors,\n",
    "         y=all_y)"
   ]
  },
  {
   "cell_type": "code",
   "execution_count": null,
   "metadata": {},
   "outputs": [],
   "source": []
  }
 ],
 "metadata": {
  "kernelspec": {
   "display_name": "Python 3",
   "language": "python",
   "name": "python3"
  },
  "language_info": {
   "codemirror_mode": {
    "name": "ipython",
    "version": 3
   },
   "file_extension": ".py",
   "mimetype": "text/x-python",
   "name": "python",
   "nbconvert_exporter": "python",
   "pygments_lexer": "ipython3",
   "version": "3.7.6"
  }
 },
 "nbformat": 4,
 "nbformat_minor": 4
}
