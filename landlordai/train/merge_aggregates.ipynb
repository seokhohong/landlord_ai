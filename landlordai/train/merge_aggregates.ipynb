{
 "cells": [
  {
   "cell_type": "code",
   "execution_count": 1,
   "metadata": {},
   "outputs": [],
   "source": [
    "import numpy as np\n",
    "import os\n",
    "\n",
    "import pickle\n",
    "import random\n",
    "import subprocess\n",
    "from tqdm.notebook import tqdm_notebook"
   ]
  },
  {
   "cell_type": "code",
   "execution_count": 2,
   "metadata": {},
   "outputs": [],
   "source": [
    "output_folder = '4_10_actualq2_merged'\n",
    "data_folders = ['4_10_actualq2', '4_10_actualq1']"
   ]
  },
  {
   "cell_type": "code",
   "execution_count": 3,
   "metadata": {},
   "outputs": [],
   "source": [
    "directories = ['../data/' + data_folder for data_folder in data_folders]\n",
    "\n",
    "filenames = []\n",
    "for directory in directories:\n",
    "    filenames.extend([directory + '/' + file for file in os.listdir(directory) if 'all.npz' in file])"
   ]
  },
  {
   "cell_type": "code",
   "execution_count": 4,
   "metadata": {},
   "outputs": [
    {
     "data": {
      "text/plain": [
       "['../data/4_10_actualq2/all.npz', '../data/4_10_actualq1/all.npz']"
      ]
     },
     "execution_count": 4,
     "metadata": {},
     "output_type": "execute_result"
    }
   ],
   "source": [
    "filenames"
   ]
  },
  {
   "cell_type": "code",
   "execution_count": null,
   "metadata": {},
   "outputs": [
    {
     "data": {
      "application/vnd.jupyter.widget-view+json": {
       "model_id": "ae8694140eff4bf6a406975c1ecdf6cb",
       "version_major": 2,
       "version_minor": 0
      },
      "text/plain": [
       "HBox(children=(FloatProgress(value=0.0, max=2.0), HTML(value='')))"
      ]
     },
     "metadata": {},
     "output_type": "display_data"
    }
   ],
   "source": [
    "collected_history_matrices = []\n",
    "collected_move_vectors = []\n",
    "collected_hand_vectors = []\n",
    "collected_y = []\n",
    "\n",
    "for filename in tqdm_notebook(filenames):\n",
    "    with np.load(filename) as npzfile:\n",
    "        collected_history_matrices.append(npzfile['history_matrix'])\n",
    "        collected_move_vectors.append(npzfile['move_vectors'])\n",
    "        collected_hand_vectors.append(npzfile['train_vectors'])\n",
    "        collected_y.append(npzfile['y'])"
   ]
  },
  {
   "cell_type": "code",
   "execution_count": null,
   "metadata": {},
   "outputs": [],
   "source": [
    "all_y = np.hstack(collected_y)\n",
    "all_move_vectors = np.vstack(collected_move_vectors)\n",
    "all_hand_vectors = np.vstack(collected_hand_vectors)\n",
    "all_history_matrices = np.vstack(collected_history_matrices)"
   ]
  },
  {
   "cell_type": "code",
   "execution_count": null,
   "metadata": {},
   "outputs": [],
   "source": [
    "from sklearn.model_selection import train_test_split\n",
    "train_hm, test_hm, train_mv, test_mv, train_hv, test_hv, train_y, test_y = \\\n",
    "    train_test_split(all_history_matrices, all_move_vectors, all_hand_vectors, all_y, test_size=0.1, shuffle=True)"
   ]
  },
  {
   "cell_type": "code",
   "execution_count": null,
   "metadata": {},
   "outputs": [],
   "source": [
    "!rm -r ../data/{output_folder}/\n",
    "!mkdir ../data/{output_folder}/"
   ]
  },
  {
   "cell_type": "code",
   "execution_count": null,
   "metadata": {},
   "outputs": [],
   "source": [
    "np.savez('../data/' + output_folder + '/train.npz', \n",
    "         history_matrix=train_hm,\n",
    "         move_vectors=train_mv,\n",
    "         hand_vectors=train_hv,\n",
    "         y=train_y)\n",
    "\n",
    "np.savez('..data/' + output_folder + '/test.npz',\n",
    "         history_matrix=test_hm,\n",
    "         move_vectors=test_mv,\n",
    "         hand_vectors=test_hv,\n",
    "         y=test_y)"
   ]
  },
  {
   "cell_type": "code",
   "execution_count": null,
   "metadata": {},
   "outputs": [],
   "source": [
    "!gsutil -m cp -r ../data/{output_folder}/ gs://landlord_ai/"
   ]
  },
  {
   "cell_type": "code",
   "execution_count": null,
   "metadata": {},
   "outputs": [],
   "source": []
  }
 ],
 "metadata": {
  "kernelspec": {
   "display_name": "Python 3",
   "language": "python",
   "name": "python3"
  },
  "language_info": {
   "codemirror_mode": {
    "name": "ipython",
    "version": 3
   },
   "file_extension": ".py",
   "mimetype": "text/x-python",
   "name": "python",
   "nbconvert_exporter": "python",
   "pygments_lexer": "ipython3",
   "version": "3.7.6"
  }
 },
 "nbformat": 4,
 "nbformat_minor": 4
}
