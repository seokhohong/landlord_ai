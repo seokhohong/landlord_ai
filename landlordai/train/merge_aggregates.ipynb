{
 "cells": [
  {
   "cell_type": "code",
   "execution_count": 1,
   "metadata": {},
   "outputs": [],
   "source": [
    "import numpy as np\n",
    "import os\n",
    "\n",
    "import pickle\n",
    "import random\n",
    "import subprocess\n",
    "from tqdm.notebook import tqdm_notebook"
   ]
  },
  {
   "cell_type": "code",
   "execution_count": 3,
   "metadata": {},
   "outputs": [],
   "source": [
    "output_folder = '4_11_actualq4_merged'\n",
    "data_folders = ['4_11_actualq4']"
   ]
  },
  {
   "cell_type": "code",
   "execution_count": 4,
   "metadata": {},
   "outputs": [],
   "source": [
    "directories = ['../data/' + data_folder for data_folder in data_folders]\n",
    "\n",
    "filenames = []\n",
    "for directory in directories:\n",
    "    filenames.extend([directory + '/' + file for file in os.listdir(directory) if 'all.npz' in file])"
   ]
  },
  {
   "cell_type": "code",
   "execution_count": 5,
   "metadata": {},
   "outputs": [
    {
     "data": {
      "text/plain": [
       "['../data/4_11_actualq4/all.npz']"
      ]
     },
     "execution_count": 5,
     "metadata": {},
     "output_type": "execute_result"
    }
   ],
   "source": [
    "filenames"
   ]
  },
  {
   "cell_type": "code",
   "execution_count": 6,
   "metadata": {},
   "outputs": [
    {
     "data": {
      "application/vnd.jupyter.widget-view+json": {
       "model_id": "8667c89925a648718d51734ae56c5053",
       "version_major": 2,
       "version_minor": 0
      },
      "text/plain": [
       "HBox(children=(FloatProgress(value=0.0, max=1.0), HTML(value='')))"
      ]
     },
     "metadata": {},
     "output_type": "display_data"
    },
    {
     "name": "stdout",
     "output_type": "stream",
     "text": [
      "\n"
     ]
    }
   ],
   "source": [
    "collected_history_matrices = []\n",
    "collected_move_vectors = []\n",
    "collected_hand_vectors = []\n",
    "collected_y = []\n",
    "\n",
    "for filename in tqdm_notebook(filenames):\n",
    "    with np.load(filename) as npzfile:\n",
    "        collected_history_matrices.append(npzfile['history_matrix'])\n",
    "        collected_move_vectors.append(npzfile['move_vectors'])\n",
    "        collected_hand_vectors.append(npzfile['hand_vectors'])\n",
    "        collected_y.append(npzfile['y'])"
   ]
  },
  {
   "cell_type": "code",
   "execution_count": 7,
   "metadata": {},
   "outputs": [],
   "source": [
    "# if stacking is needed\n",
    "if len(collected_y) > 1:\n",
    "    all_y = np.hstack(collected_y)\n",
    "    all_move_vectors = np.vstack(collected_move_vectors)\n",
    "    all_hand_vectors = np.vstack(collected_hand_vectors)\n",
    "    all_history_matrices = np.vstack(collected_history_matrices)\n",
    "else:\n",
    "    all_y = collected_y[0]\n",
    "    all_move_vectors = collected_move_vectors[0]\n",
    "    all_hand_vectors = collected_hand_vectors[0]\n",
    "    all_history_matrices = collected_history_matrices[0]"
   ]
  },
  {
   "cell_type": "code",
   "execution_count": 8,
   "metadata": {},
   "outputs": [],
   "source": [
    "from sklearn.model_selection import train_test_split\n",
    "train_hm, test_hm, train_mv, test_mv, train_hv, test_hv, train_y, test_y = \\\n",
    "    train_test_split(all_history_matrices, all_move_vectors, all_hand_vectors, all_y, test_size=0.1, shuffle=True)"
   ]
  },
  {
   "cell_type": "code",
   "execution_count": 9,
   "metadata": {},
   "outputs": [
    {
     "name": "stdout",
     "output_type": "stream",
     "text": [
      "rm: cannot remove '../data/4_11_actualq4_merged/': No such file or directory\n"
     ]
    }
   ],
   "source": [
    "!rm -r ../data/{output_folder}/\n",
    "!mkdir ../data/{output_folder}/"
   ]
  },
  {
   "cell_type": "code",
   "execution_count": 10,
   "metadata": {},
   "outputs": [],
   "source": [
    "np.savez('../data/' + output_folder + '/train.npz', \n",
    "         history_matrix=train_hm,\n",
    "         move_vectors=train_mv,\n",
    "         hand_vectors=train_hv,\n",
    "         y=train_y)\n",
    "\n",
    "np.savez('../data/' + output_folder + '/test.npz',\n",
    "         history_matrix=test_hm,\n",
    "         move_vectors=test_mv,\n",
    "         hand_vectors=test_hv,\n",
    "         y=test_y)"
   ]
  },
  {
   "cell_type": "code",
   "execution_count": 11,
   "metadata": {},
   "outputs": [
    {
     "name": "stdout",
     "output_type": "stream",
     "text": [
      "Copying file://../data/4_11_actualq4_merged/test.npz [Content-Type=application/octet-stream]...\n",
      "==> NOTE: You are uploading one or more large file(s), which would run\n",
      "significantly faster if you enable parallel composite uploads. This\n",
      "feature can be enabled by editing the\n",
      "\"parallel_composite_upload_threshold\" value in your .boto\n",
      "configuration file. However, note that if you do this large files will\n",
      "be uploaded as `composite objects\n",
      "<https://cloud.google.com/storage/docs/composite-objects>`_,which\n",
      "means that any user who downloads such objects will need to have a\n",
      "compiled crcmod installed (see \"gsutil help crcmod\"). This is because\n",
      "without a compiled crcmod, computing checksums on composite objects is\n",
      "so slow that gsutil disables downloads of composite objects.\n",
      "\n",
      "Copying file://../data/4_11_actualq4_merged/train.npz [Content-Type=application/octet-stream]...\n",
      "/ [2/2 files][ 14.6 GiB/ 14.6 GiB] 100% Done  96.9 MiB/s ETA 00:00:00           \n",
      "Operation completed over 2 objects/14.6 GiB.                                     \n"
     ]
    }
   ],
   "source": [
    "!gsutil -m cp -r ../data/{output_folder}/ gs://landlord_ai/"
   ]
  },
  {
   "cell_type": "code",
   "execution_count": null,
   "metadata": {},
   "outputs": [],
   "source": []
  }
 ],
 "metadata": {
  "kernelspec": {
   "display_name": "Python 3",
   "language": "python",
   "name": "python3"
  },
  "language_info": {
   "codemirror_mode": {
    "name": "ipython",
    "version": 3
   },
   "file_extension": ".py",
   "mimetype": "text/x-python",
   "name": "python",
   "nbconvert_exporter": "python",
   "pygments_lexer": "ipython3",
   "version": "3.7.6"
  }
 },
 "nbformat": 4,
 "nbformat_minor": 4
}
