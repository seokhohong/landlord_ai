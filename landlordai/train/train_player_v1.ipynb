{
 "cells": [
  {
   "cell_type": "code",
   "execution_count": 1,
   "metadata": {},
   "outputs": [
    {
     "name": "stdout",
     "output_type": "stream",
     "text": [
      "Defaulting to user installation because normal site-packages is not writeable\n",
      "Collecting landlord-ai\n",
      "  Downloading landlord_ai-0.1.7.tar.gz (9.7 kB)\n",
      "Building wheels for collected packages: landlord-ai\n",
      "  Building wheel for landlord-ai (setup.py) ... \u001b[?25ldone\n",
      "\u001b[?25h  Created wheel for landlord-ai: filename=landlord_ai-0.1.7-py3-none-any.whl size=13951 sha256=281bc63ccb5227a3ea5f4c045fe506b9d7add76a2de7d59c8d354906c4de4c6f\n",
      "  Stored in directory: /home/jupyter/.cache/pip/wheels/4b/b2/29/cce1fac88de7d7cbfcf8f575b537c23d62f4327ae3ff6279e1\n",
      "Successfully built landlord-ai\n",
      "Installing collected packages: landlord-ai\n",
      "  Attempting uninstall: landlord-ai\n",
      "    Found existing installation: landlord-ai 0.1.2\n",
      "    Uninstalling landlord-ai-0.1.2:\n",
      "      Successfully uninstalled landlord-ai-0.1.2\n",
      "Successfully installed landlord-ai-0.1.7\n",
      "Collecting keras.preprocessing\n",
      "  Downloading Keras_Preprocessing-1.1.0-py2.py3-none-any.whl (41 kB)\n",
      "\u001b[K     |████████████████████████████████| 41 kB 784 kB/s eta 0:00:011\n",
      "\u001b[?25hRequirement already satisfied: six>=1.9.0 in /usr/local/lib/python3.5/dist-packages (from keras.preprocessing) (1.14.0)\n",
      "Requirement already satisfied: numpy>=1.9.1 in /usr/local/lib/python3.5/dist-packages (from keras.preprocessing) (1.18.1)\n",
      "\u001b[31mERROR: tensorflow-serving-api-gpu 1.14.0 has requirement tensorflow-gpu~=1.14.0, but you'll have tensorflow-gpu 1.15.2 which is incompatible.\u001b[0m\n",
      "Installing collected packages: keras.preprocessing\n",
      "Successfully installed keras.preprocessing\n"
     ]
    }
   ],
   "source": [
    "!pip install landlord-ai --upgrade\n",
    "!pip install keras.preprocessing --user"
   ]
  },
  {
   "cell_type": "code",
   "execution_count": 2,
   "metadata": {},
   "outputs": [],
   "source": [
    "import keras\n",
    "from keras.utils import Sequence\n",
    "import numpy as np\n",
    "from keras.layers import *\n",
    "from keras.losses import mean_squared_error\n",
    "from keras.callbacks import *\n",
    "import os\n",
    "\n",
    "import pickle\n",
    "import random\n",
    "\n",
    "from landlordai.game.player import LearningPlayer_v1"
   ]
  },
  {
   "cell_type": "code",
   "execution_count": 3,
   "metadata": {},
   "outputs": [],
   "source": [
    "class DataGenerator(Sequence):\n",
    "    \"\"\"Generates data for Keras\n",
    "    Sequence based data generator. Suitable for building data generator for training and prediction.\n",
    "    \"\"\"\n",
    "    def __init__(self, path_ids, batch_size=1024, shuffle=True, clamp=False):\n",
    "        \"\"\"Initialization\n",
    "        :param list_IDs: list of all 'label' ids to use in the generator\n",
    "        :param labels: list of image labels (file names)\n",
    "        :param image_path: path to images location\n",
    "        :param mask_path: path to masks location\n",
    "        :param to_fit: True to return X and y, False to return X only\n",
    "        :param batch_size: batch size at each iteration\n",
    "        :param dim: tuple indicating image dimension\n",
    "        :param n_channels: number of image channels\n",
    "        :param n_classes: number of output masks\n",
    "        :param shuffle: True to shuffle label indexes after every epoch\n",
    "        \"\"\"\n",
    "        self.path_ids = path_ids\n",
    "        self.batch_size = batch_size\n",
    "        self.shuffle = shuffle\n",
    "        self.clamp = clamp\n",
    "        \n",
    "        self.load_cache()\n",
    "\n",
    "    def __len__(self):\n",
    "        \"\"\"Denotes the number of batches per epoch\n",
    "        :return: number of batches per epoch\n",
    "        \"\"\"\n",
    "        return 1000\n",
    "\n",
    "    def load_cache(self):\n",
    "        with open(random.choice(self.path_ids), 'rb') as f:\n",
    "            self.cache = pickle.load(f)\n",
    "        self.curr_index = 0\n",
    "        \n",
    "    \n",
    "    def __getitem__(self, index):\n",
    "        \"\"\"Generate one batch of data\n",
    "        :param index: index of the batch\n",
    "        :return: X and y when fitting. X only when predicting\n",
    "        \"\"\"\n",
    "        limit = min(len(self.cache[0]), (self.curr_index + 1) * self.batch_size)\n",
    "        \n",
    "        #print(self.curr_index * self.batch_size, limit)\n",
    "        history_matrices = self.cache[0][self.curr_index * self.batch_size: limit]\n",
    "        move_vectors = self.cache[1][self.curr_index * self.batch_size: limit]\n",
    "        hand_vectors = self.cache[2][self.curr_index * self.batch_size: limit]\n",
    "        #print(self.curr_index * self.batch_size, limit)\n",
    "        y = self.cache[3][self.curr_index * self.batch_size: limit]\n",
    "        self.curr_index += 1\n",
    "        \n",
    "        # load a new batch\n",
    "        if (self.curr_index + 1) * self.batch_size >= len(self.cache[0]):\n",
    "            self.load_cache()\n",
    "        \n",
    "        return [self.densify(history_matrices), move_vectors, hand_vectors], self.adjust_y(y)\n",
    "\n",
    "    def densify(self, sparse_matrix):\n",
    "        return np.array([x.todense() for x in sparse_matrix])\n",
    "\n",
    "    def adjust_y(self, y):\n",
    "        if not self.clamp:\n",
    "            return y\n",
    "        new_y = []\n",
    "        for elem in y:\n",
    "            if abs(int(elem) - elem) > 1E-4:\n",
    "                new_y.append(0)\n",
    "            else:\n",
    "                new_y.append(elem)\n",
    "        return np.array(new_y)\n",
    "\n"
   ]
  },
  {
   "cell_type": "code",
   "execution_count": 2,
   "metadata": {},
   "outputs": [],
   "source": [
    "data_folder = '3_29_sim8'"
   ]
  },
  {
   "cell_type": "code",
   "execution_count": null,
   "metadata": {},
   "outputs": [],
   "source": []
  },
  {
   "cell_type": "code",
   "execution_count": 3,
   "metadata": {},
   "outputs": [
    {
     "name": "stdout",
     "output_type": "stream",
     "text": [
      "rm: cannot remove '../data/3_29_sim8': No such file or directory\n",
      "CommandException: Destination URL must name a directory, bucket, or bucket\n",
      "subdirectory for the multiple source form of the cp command.\n",
      "CommandException: Destination URL must name a directory, bucket, or bucket\n",
      "subdirectory for the multiple source form of the cp command.\n",
      "CommandException: 2 files/objects could not be transferred.\n"
     ]
    }
   ],
   "source": [
    "!rm -r ../data/$data_folder\n",
    "!gsutil -m cp -r gs://landlord_ai/$data_folder ../data/"
   ]
  },
  {
   "cell_type": "code",
   "execution_count": 5,
   "metadata": {},
   "outputs": [],
   "source": [
    "\n",
    "directory = '../data/' + data_folder\n",
    "filenames = [directory + '/' + file for file in os.listdir(directory)]\n",
    "\n",
    "if len(filenames) == 1:\n",
    "    train_path_ids = filenames\n",
    "    test_path_ids = filenames\n",
    "else:\n",
    "    divider = int(len(filenames) * 0.9)\n",
    "    train_path_ids = filenames[divider:]\n",
    "    test_path_ids = filenames[:divider]"
   ]
  },
  {
   "cell_type": "code",
   "execution_count": 6,
   "metadata": {},
   "outputs": [],
   "source": [
    "clamp = False\n",
    "train_gen = DataGenerator(train_path_ids, clamp=clamp)\n",
    "test_gen = DataGenerator(test_path_ids, clamp=clamp)"
   ]
  },
  {
   "cell_type": "code",
   "execution_count": 7,
   "metadata": {},
   "outputs": [],
   "source": [
    "assert not np.allclose(train_gen[0][0][0], train_gen[0][0][0])\n",
    "assert len(train_gen[0][0]) == 3\n",
    "for i in range(3):\n",
    "    get_set = train_gen[0][0][0]\n",
    "    if len(get_set.shape) != 3:\n",
    "        print(get_set)\n"
   ]
  },
  {
   "cell_type": "code",
   "execution_count": 10,
   "metadata": {},
   "outputs": [],
   "source": [
    "GRU_DIM = 64\n",
    "K.clear_session()\n",
    "\n",
    "history_inp = Input((LearningPlayer_v1.TIMESTEPS, LearningPlayer_v1.TIMESTEP_FEATURES), name='history_inp')\n",
    "move_inp = Input((LearningPlayer_v1.TIMESTEP_FEATURES, ), name='move_inp')\n",
    "hand_inp = Input((LearningPlayer_v1.HAND_FEATURES, ), name='hand_inp')\n",
    "gru = GRU(GRU_DIM, name='gru')(history_inp)\n",
    "\n",
    "concat = Concatenate()([gru, move_inp, hand_inp])\n",
    "hidden = Dense(32, activation='relu', name='hidden')(concat)\n",
    "\n",
    "output = Dense(1, activation='linear', name='output')(hidden)\n",
    "combined_net = keras.models.Model(inputs=[history_inp, move_inp, hand_inp], outputs=output)\n",
    "combined_net.compile(loss=mean_squared_error, optimizer='adam', metrics=['mean_squared_error'])"
   ]
  },
  {
   "cell_type": "code",
   "execution_count": 11,
   "metadata": {},
   "outputs": [
    {
     "name": "stdout",
     "output_type": "stream",
     "text": [
      "Model: \"model_1\"\n",
      "__________________________________________________________________________________________________\n",
      "Layer (type)                    Output Shape         Param #     Connected to                     \n",
      "==================================================================================================\n",
      "history_inp (InputLayer)        (None, 100, 21)      0                                            \n",
      "__________________________________________________________________________________________________\n",
      "gru (GRU)                       (None, 64)           16512       history_inp[0][0]                \n",
      "__________________________________________________________________________________________________\n",
      "move_inp (InputLayer)           (None, 21)           0                                            \n",
      "__________________________________________________________________________________________________\n",
      "hand_inp (InputLayer)           (None, 15)           0                                            \n",
      "__________________________________________________________________________________________________\n",
      "concatenate_1 (Concatenate)     (None, 100)          0           gru[0][0]                        \n",
      "                                                                 move_inp[0][0]                   \n",
      "                                                                 hand_inp[0][0]                   \n",
      "__________________________________________________________________________________________________\n",
      "hidden (Dense)                  (None, 32)           3232        concatenate_1[0][0]              \n",
      "__________________________________________________________________________________________________\n",
      "output (Dense)                  (None, 1)            33          hidden[0][0]                     \n",
      "==================================================================================================\n",
      "Total params: 19,777\n",
      "Trainable params: 19,777\n",
      "Non-trainable params: 0\n",
      "__________________________________________________________________________________________________\n"
     ]
    }
   ],
   "source": [
    "combined_net.summary()"
   ]
  },
  {
   "cell_type": "code",
   "execution_count": 18,
   "metadata": {},
   "outputs": [],
   "source": [
    "num_train = 5"
   ]
  },
  {
   "cell_type": "code",
   "execution_count": null,
   "metadata": {},
   "outputs": [
    {
     "name": "stdout",
     "output_type": "stream",
     "text": [
      "Epoch 1/100\n",
      "100/100 [==============================] - 16s 155ms/step - loss: 0.0755 - mean_squared_error: 0.0755 - val_loss: 0.2118 - val_mean_squared_error: 0.1379\n",
      "\n",
      "Epoch 00001: val_loss improved from inf to 0.21183, saving model to combined0.h5\n",
      "Epoch 2/100\n",
      "100/100 [==============================] - 16s 165ms/step - loss: 0.0732 - mean_squared_error: 0.0732 - val_loss: 0.2385 - val_mean_squared_error: 0.1038\n",
      "\n",
      "Epoch 00002: val_loss did not improve from 0.21183\n",
      "Epoch 3/100\n",
      "100/100 [==============================] - 15s 152ms/step - loss: 0.0674 - mean_squared_error: 0.0674 - val_loss: 0.1859 - val_mean_squared_error: 0.1040\n",
      "\n",
      "Epoch 00003: val_loss improved from 0.21183 to 0.18595, saving model to combined0.h5\n",
      "Epoch 4/100\n",
      "100/100 [==============================] - 15s 153ms/step - loss: 0.0634 - mean_squared_error: 0.0634 - val_loss: 0.0706 - val_mean_squared_error: 0.1927\n",
      "\n",
      "Epoch 00004: val_loss improved from 0.18595 to 0.07058, saving model to combined0.h5\n",
      "Epoch 5/100\n",
      "100/100 [==============================] - 18s 180ms/step - loss: 0.0579 - mean_squared_error: 0.0579 - val_loss: 0.1521 - val_mean_squared_error: 0.1377\n",
      "\n",
      "Epoch 00005: val_loss did not improve from 0.07058\n",
      "Epoch 6/100\n",
      "100/100 [==============================] - 16s 163ms/step - loss: 0.0590 - mean_squared_error: 0.0590 - val_loss: 0.1594 - val_mean_squared_error: 0.1481\n",
      "\n",
      "Epoch 00006: val_loss did not improve from 0.07058\n",
      "Epoch 7/100\n",
      "100/100 [==============================] - 14s 136ms/step - loss: 0.0573 - mean_squared_error: 0.0573 - val_loss: 0.1172 - val_mean_squared_error: 0.1182\n",
      "\n",
      "Epoch 00007: val_loss did not improve from 0.07058\n",
      "Epoch 8/100\n",
      "100/100 [==============================] - 15s 152ms/step - loss: 0.0532 - mean_squared_error: 0.0532 - val_loss: 0.1499 - val_mean_squared_error: 0.1521\n",
      "\n",
      "Epoch 00008: val_loss did not improve from 0.07058\n",
      "Epoch 9/100\n",
      "100/100 [==============================] - 18s 176ms/step - loss: 0.0510 - mean_squared_error: 0.0510 - val_loss: 0.3812 - val_mean_squared_error: 0.2127\n",
      "\n",
      "Epoch 00009: val_loss did not improve from 0.07058\n",
      "Epoch 00009: early stopping\n",
      "Epoch 1/100\n",
      "100/100 [==============================] - 16s 158ms/step - loss: 0.0491 - mean_squared_error: 0.0491 - val_loss: 0.1350 - val_mean_squared_error: 0.1176\n",
      "\n",
      "Epoch 00001: val_loss improved from inf to 0.13496, saving model to combined1.h5\n",
      "Epoch 2/100\n",
      "100/100 [==============================] - 15s 154ms/step - loss: 0.0507 - mean_squared_error: 0.0507 - val_loss: 0.4208 - val_mean_squared_error: 0.1997\n",
      "\n",
      "Epoch 00002: val_loss did not improve from 0.13496\n",
      "Epoch 3/100\n",
      "100/100 [==============================] - 15s 149ms/step - loss: 0.0488 - mean_squared_error: 0.0488 - val_loss: 0.2708 - val_mean_squared_error: 0.1528\n",
      "\n",
      "Epoch 00003: val_loss did not improve from 0.13496\n",
      "Epoch 4/100\n",
      "100/100 [==============================] - 17s 168ms/step - loss: 0.0470 - mean_squared_error: 0.0470 - val_loss: 0.4765 - val_mean_squared_error: 0.1703\n",
      "\n",
      "Epoch 00004: val_loss did not improve from 0.13496\n",
      "Epoch 5/100\n",
      "100/100 [==============================] - 15s 150ms/step - loss: 0.0459 - mean_squared_error: 0.0459 - val_loss: 0.1140 - val_mean_squared_error: 0.1190\n",
      "\n",
      "Epoch 00005: val_loss improved from 0.13496 to 0.11397, saving model to combined1.h5\n",
      "Epoch 6/100\n",
      "100/100 [==============================] - 15s 154ms/step - loss: 0.0455 - mean_squared_error: 0.0455 - val_loss: 0.1124 - val_mean_squared_error: 0.1013\n",
      "\n",
      "Epoch 00006: val_loss improved from 0.11397 to 0.11241, saving model to combined1.h5\n",
      "Epoch 7/100\n",
      " 11/100 [==>...........................] - ETA: 11s - loss: 0.0399 - mean_squared_error: 0.0399"
     ]
    }
   ],
   "source": [
    "def train_model(fname='model.h5'):\n",
    "    callbacks = [\n",
    "        EarlyStopping(monitor='val_loss', mode='min', verbose=1, patience=5),\n",
    "        ModelCheckpoint(fname, monitor='val_loss', mode='min', verbose=1, save_best_only=True)\n",
    "    ]\n",
    "\n",
    "    combined_net.fit_generator(train_gen,\n",
    "              epochs=100,\n",
    "                steps_per_epoch=100,\n",
    "            validation_steps=30,\n",
    "              callbacks=callbacks,\n",
    "              validation_data=test_gen,\n",
    "              shuffle=True\n",
    "              )\n",
    "    return combined_net\n",
    "\n",
    "for i in range(num_train):\n",
    "    train_model('combined' + str(i) + '.h5')"
   ]
  },
  {
   "cell_type": "code",
   "execution_count": null,
   "metadata": {},
   "outputs": [],
   "source": [
    "import subprocess\n",
    "def split_model(composite, model_folder):\n",
    "    best_model = keras.models.load_model(composite)\n",
    "    history_net = keras.models.Model(inputs=[best_model.get_layer('history_inp').input], outputs=[best_model.get_layer('gru').output])\n",
    "\n",
    "    vector_history_inp = Input((best_model.get_layer('gru').output.shape[1], ), name='vector_history_inp')\n",
    "    concat = Concatenate()([vector_history_inp, best_model.get_layer('move_inp').output, best_model.get_layer('hand_inp').output])\n",
    "    hidden = best_model.get_layer('hidden')(concat)\n",
    "    output = best_model.get_layer('output')(hidden)\n",
    "\n",
    "    move_inp = best_model.get_layer('move_inp').input\n",
    "    hand_inp = best_model.get_layer('hand_inp').input\n",
    "    position_net = keras.models.Model(inputs=[vector_history_inp, move_inp, hand_inp], outputs=[output])\n",
    "\n",
    "    history_net.save(str(model_folder / 'history.h5'))\n",
    "    position_net.save(str(model_folder / 'position.h5'))"
   ]
  },
  {
   "cell_type": "code",
   "execution_count": null,
   "metadata": {},
   "outputs": [],
   "source": [
    "from pathlib import Path\n",
    "\n",
    "def delete_dir(path):\n",
    "    if not os.path.exists(path):\n",
    "        return\n",
    "    for file in path.iterdir():\n",
    "        os.remove(file)\n",
    "    path.rmdir()\n",
    "\n",
    "for i in range(1):\n",
    "    combined_file = 'combined' + str(i) + '.h5'\n",
    "    model_folder_name = data_folder + '_model' + str(i)\n",
    "    \n",
    "    model_folder_path = Path('../models/', model_folder_name)\n",
    "    delete_dir(model_folder_path)\n",
    "    model_folder_path.mkdir()\n",
    "    \n",
    "    split_model(combined_file, model_folder_path)\n",
    "    subprocess.check_output(['gsutil', 'cp', '-r', '../models/' + model_folder_name, 'gs://landlord_ai/models/'])"
   ]
  },
  {
   "cell_type": "code",
   "execution_count": null,
   "metadata": {},
   "outputs": [],
   "source": []
  }
 ],
 "metadata": {
  "kernelspec": {
   "display_name": "Python 3",
   "language": "python",
   "name": "python3"
  },
  "language_info": {
   "codemirror_mode": {
    "name": "ipython",
    "version": 3
   },
   "file_extension": ".py",
   "mimetype": "text/x-python",
   "name": "python",
   "nbconvert_exporter": "python",
   "pygments_lexer": "ipython3",
   "version": "3.5.3"
  }
 },
 "nbformat": 4,
 "nbformat_minor": 4
}
