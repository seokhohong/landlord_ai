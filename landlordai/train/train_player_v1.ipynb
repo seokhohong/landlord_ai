{
 "cells": [
  {
   "cell_type": "code",
   "execution_count": null,
   "metadata": {},
   "outputs": [],
   "source": [
    "!pip install landlord-ai --upgrade\n",
    "!pip install keras.preprocessing --user\n",
    "!pip install tqdm"
   ]
  },
  {
   "cell_type": "code",
   "execution_count": 1,
   "metadata": {},
   "outputs": [
    {
     "name": "stderr",
     "output_type": "stream",
     "text": [
      "Using TensorFlow backend.\n"
     ]
    }
   ],
   "source": [
    "import keras\n",
    "from keras.utils import Sequence\n",
    "import numpy as np\n",
    "from keras.layers import *\n",
    "from keras.losses import mean_squared_error\n",
    "from keras.callbacks import *\n",
    "import os\n",
    "\n",
    "import pickle\n",
    "import random\n",
    "from tqdm import tqdm\n",
    "\n",
    "from landlordai.game.player import LearningPlayer_v1"
   ]
  },
  {
   "cell_type": "code",
   "execution_count": 2,
   "metadata": {},
   "outputs": [],
   "source": [
    "class DataGenerator(Sequence):\n",
    "    \"\"\"Generates data for Keras\n",
    "    Sequence based data generator. Suitable for building data generator for training and prediction.\n",
    "    \"\"\"\n",
    "    def __init__(self, path_ids, batch_size=1024, shuffle=True, clamp=False):\n",
    "        \"\"\"Initialization\n",
    "        :param list_IDs: list of all 'label' ids to use in the generator\n",
    "        :param labels: list of image labels (file names)\n",
    "        :param image_path: path to images location\n",
    "        :param mask_path: path to masks location\n",
    "        :param to_fit: True to return X and y, False to return X only\n",
    "        :param batch_size: batch size at each iteration\n",
    "        :param dim: tuple indicating image dimension\n",
    "        :param n_channels: number of image channels\n",
    "        :param n_classes: number of output masks\n",
    "        :param shuffle: True to shuffle label indexes after every epoch\n",
    "        \"\"\"\n",
    "        self.path_ids = path_ids\n",
    "        self.batch_size = batch_size\n",
    "        self.shuffle = shuffle\n",
    "        self.clamp = clamp\n",
    "        \n",
    "        self.load_cache()\n",
    "\n",
    "    def __len__(self):\n",
    "        \"\"\"Denotes the number of batches per epoch\n",
    "        :return: number of batches per epoch\n",
    "        \"\"\"\n",
    "        return 1000\n",
    "\n",
    "    def load_cache(self):\n",
    "        with open(random.choice(self.path_ids), 'rb') as f:\n",
    "            history_matrices, move_vectors, hand_vectors, y = pickle.load(f)\n",
    "            \n",
    "            if self.shuffle:\n",
    "                p = np.random.permutation(len(history_matrices))\n",
    "                \n",
    "                history_matrices = np.array(history_matrices)[p]\n",
    "                move_vectors = move_vectors[p]\n",
    "                hand_vectors = hand_vectors[p]\n",
    "                y = y[p]\n",
    "\n",
    "        self.cache = (history_matrices, move_vectors, hand_vectors, y) \n",
    "        self.curr_index = 0\n",
    "        \n",
    "    \n",
    "    def __getitem__(self, index):\n",
    "        \"\"\"Generate one batch of data\n",
    "        :param index: index of the batch\n",
    "        :return: X and y when fitting. X only when predicting\n",
    "        \"\"\"\n",
    "        limit = min(len(self.cache[0]), (self.curr_index + 1) * self.batch_size)\n",
    "        \n",
    "        #print(self.curr_index * self.batch_size, limit)\n",
    "        history_matrices = self.cache[0][self.curr_index * self.batch_size: limit]\n",
    "        move_vectors = self.cache[1][self.curr_index * self.batch_size: limit]\n",
    "        hand_vectors = self.cache[2][self.curr_index * self.batch_size: limit]\n",
    "        #print(self.curr_index * self.batch_size, limit)\n",
    "        y = self.cache[3][self.curr_index * self.batch_size: limit]\n",
    "        self.curr_index += 1\n",
    "        \n",
    "        # load a new batch\n",
    "        if (self.curr_index + 1) * self.batch_size >= len(self.cache[0]):\n",
    "            print('Reload')\n",
    "            self.load_cache()\n",
    "        \n",
    "        return [self.densify(history_matrices), move_vectors, hand_vectors], self.adjust_y(y)\n",
    "\n",
    "    def densify(self, sparse_matrix):\n",
    "        return np.array([x.todense() for x in sparse_matrix])\n",
    "\n",
    "    def adjust_y(self, y):\n",
    "        if not self.clamp:\n",
    "            return y\n",
    "        new_y = []\n",
    "        for elem in y:\n",
    "            if abs(int(elem) - elem) > 1E-4:\n",
    "                new_y.append(0)\n",
    "            else:\n",
    "                new_y.append(elem)\n",
    "        return np.array(new_y)\n",
    "\n"
   ]
  },
  {
   "cell_type": "code",
   "execution_count": 3,
   "metadata": {},
   "outputs": [],
   "source": [
    "data_folder = '3_29_sim12'"
   ]
  },
  {
   "cell_type": "code",
   "execution_count": 36,
   "metadata": {},
   "outputs": [
    {
     "name": "stdout",
     "output_type": "stream",
     "text": [
      "rm: cannot remove '../data/3_29_sim12': No such file or directory\n",
      "Copying gs://landlord_ai/3_29_sim12/0.pkl...\n",
      "Copying gs://landlord_ai/3_29_sim12/1.pkl...\n",
      "Copying gs://landlord_ai/3_29_sim12/2.pkl...\n",
      "Copying gs://landlord_ai/3_29_sim12/3.pkl...\n",
      "Copying gs://landlord_ai/3_29_sim12/4.pkl...                                    \n",
      "\\ [5/5 files][837.6 MiB/837.6 MiB] 100% Done                                    \n",
      "Operation completed over 5 objects/837.6 MiB.                                    \n"
     ]
    }
   ],
   "source": [
    "!rm -r ../data/$data_folder\n",
    "!gsutil -m cp -r gs://landlord_ai/$data_folder ../data/"
   ]
  },
  {
   "cell_type": "code",
   "execution_count": 4,
   "metadata": {},
   "outputs": [],
   "source": [
    "\n",
    "directory = '../data/' + data_folder\n",
    "filenames = [directory + '/' + file for file in os.listdir(directory)]\n",
    "\n",
    "if len(filenames) == 1:\n",
    "    train_path_ids = filenames\n",
    "    test_path_ids = filenames\n",
    "else:\n",
    "    divider = int(len(filenames) * 0.9)\n",
    "    train_path_ids = filenames[:divider]\n",
    "    test_path_ids = filenames[divider:]"
   ]
  },
  {
   "cell_type": "code",
   "execution_count": 5,
   "metadata": {},
   "outputs": [],
   "source": [
    "clamp = False\n",
    "train_gen = DataGenerator(train_path_ids, clamp=clamp)\n",
    "test_gen = DataGenerator(test_path_ids, clamp=clamp)"
   ]
  },
  {
   "cell_type": "code",
   "execution_count": 6,
   "metadata": {},
   "outputs": [],
   "source": [
    "assert not np.allclose(train_gen[0][0][0], train_gen[0][0][0])\n",
    "assert len(train_gen[0][0]) == 3\n",
    "for i in range(3):\n",
    "    get_set = train_gen[0][0][0]\n",
    "    if len(get_set.shape) != 3:\n",
    "        print(get_set)\n"
   ]
  },
  {
   "cell_type": "code",
   "execution_count": 7,
   "metadata": {},
   "outputs": [],
   "source": [
    "def create_model():\n",
    "    K.clear_session()\n",
    "    GRU_DIM = 64\n",
    "\n",
    "    history_inp = Input((LearningPlayer_v1.TIMESTEPS, LearningPlayer_v1.TIMESTEP_FEATURES), name='history_inp')\n",
    "    move_inp = Input((LearningPlayer_v1.TIMESTEP_FEATURES, ), name='move_inp')\n",
    "    hand_inp = Input((LearningPlayer_v1.HAND_FEATURES, ), name='hand_inp')\n",
    "    gru = GRU(GRU_DIM, name='gru')(history_inp)\n",
    "\n",
    "    concat = Concatenate()([gru, move_inp, hand_inp])\n",
    "    hidden = Dense(32, activation='relu', name='hidden')(concat)\n",
    "\n",
    "    output = Dense(1, activation='linear', name='output')(hidden)\n",
    "    combined_net = keras.models.Model(inputs=[history_inp, move_inp, hand_inp], outputs=output)\n",
    "    combined_net.compile(loss=mean_squared_error, optimizer='adam', metrics=['mean_squared_error'])"
   ]
  },
  {
   "cell_type": "code",
   "execution_count": 9,
   "metadata": {},
   "outputs": [],
   "source": [
    "num_train = 5"
   ]
  },
  {
   "cell_type": "code",
   "execution_count": null,
   "metadata": {},
   "outputs": [
    {
     "name": "stdout",
     "output_type": "stream",
     "text": [
      "Reload\n",
      "Epoch 1/50\n",
      " 59/300 [====>.........................] - ETA: 45s - loss: 0.2226 - mean_squared_error: 0.2232Reload\n",
      "148/300 [=============>................] - ETA: 22s - loss: 0.2270 - mean_squared_error: 0.2273Reload\n",
      "248/300 [=======================>......] - ETA: 6s - loss: 0.2264 - mean_squared_error: 0.2266Reload\n",
      "299/300 [============================>.] - ETA: 0s - loss: 0.2262 - mean_squared_error: 0.2263Reload\n",
      "300/300 [==============================] - 45s 149ms/step - loss: 0.2258 - mean_squared_error: 0.2260 - val_loss: 0.1791 - val_mean_squared_error: 0.2357\n",
      "\n",
      "Epoch 00001: val_mean_squared_error improved from inf to 0.23574, saving model to combined0.h5\n",
      "Epoch 2/50\n",
      " 48/300 [===>..........................] - ETA: 28s - loss: 0.2368 - mean_squared_error: 0.2368Reload\n",
      "148/300 [=============>................] - ETA: 17s - loss: 0.2310 - mean_squared_error: 0.2310Reload\n",
      "247/300 [=======================>......] - ETA: 6s - loss: 0.2346 - mean_squared_error: 0.2346Reload\n",
      "299/300 [============================>.] - ETA: 0s - loss: 0.2319 - mean_squared_error: 0.2319Reload\n",
      "300/300 [==============================] - 40s 134ms/step - loss: 0.2319 - mean_squared_error: 0.2319 - val_loss: 0.1908 - val_mean_squared_error: 0.2388\n",
      "\n",
      "Epoch 00002: val_mean_squared_error did not improve from 0.23574\n",
      "Epoch 3/50\n",
      " 47/300 [===>..........................] - ETA: 27s - loss: 0.2148 - mean_squared_error: 0.2148Reload\n",
      "147/300 [=============>................] - ETA: 17s - loss: 0.2251 - mean_squared_error: 0.2251Reload\n",
      "247/300 [=======================>......] - ETA: 6s - loss: 0.2219 - mean_squared_error: 0.2219Reload\n",
      "299/300 [============================>.] - ETA: 0s - loss: 0.2220 - mean_squared_error: 0.2220Reload\n",
      "300/300 [==============================] - 41s 136ms/step - loss: 0.2218 - mean_squared_error: 0.2218 - val_loss: 0.2315 - val_mean_squared_error: 0.2330\n",
      "\n",
      "Epoch 00003: val_mean_squared_error improved from 0.23574 to 0.23303, saving model to combined0.h5\n",
      "Epoch 4/50\n",
      " 47/300 [===>..........................] - ETA: 27s - loss: 0.2183 - mean_squared_error: 0.2183Reload\n",
      "147/300 [=============>................] - ETA: 17s - loss: 0.2197 - mean_squared_error: 0.2197Reload\n",
      "246/300 [=======================>......] - ETA: 6s - loss: 0.2286 - mean_squared_error: 0.2286Reload\n",
      "299/300 [============================>.] - ETA: 0s - loss: 0.2258 - mean_squared_error: 0.2258Reload\n",
      "300/300 [==============================] - 40s 133ms/step - loss: 0.2263 - mean_squared_error: 0.2263 - val_loss: 0.3071 - val_mean_squared_error: 0.2298\n",
      "\n",
      "Epoch 00004: val_mean_squared_error improved from 0.23303 to 0.22978, saving model to combined0.h5\n",
      "Epoch 5/50\n",
      " 46/300 [===>..........................] - ETA: 28s - loss: 0.2374 - mean_squared_error: 0.2374Reload\n",
      "146/300 [=============>................] - ETA: 17s - loss: 0.2244 - mean_squared_error: 0.2244Reload\n",
      "246/300 [=======================>......] - ETA: 6s - loss: 0.2232 - mean_squared_error: 0.2232Reload\n",
      "299/300 [============================>.] - ETA: 0s - loss: 0.2217 - mean_squared_error: 0.2217Reload\n"
     ]
    }
   ],
   "source": [
    "def train_model(fname='model.h5'):\n",
    "    create_model()\n",
    "    \n",
    "    callbacks = [\n",
    "        EarlyStopping(monitor='val_mean_squared_error', mode='min', verbose=1, patience=2),\n",
    "        ModelCheckpoint(fname, monitor='val_mean_squared_error', mode='min', verbose=1, save_best_only=True)\n",
    "    ]\n",
    "\n",
    "    combined_net.fit_generator(train_gen,\n",
    "              epochs=50,\n",
    "                steps_per_epoch=300,\n",
    "            validation_steps=100,\n",
    "              callbacks=callbacks,\n",
    "              validation_data=test_gen,\n",
    "              shuffle=True,\n",
    "                workers=1,\n",
    "                max_queue_size=50,\n",
    "                use_multiprocessing=False\n",
    "              )\n",
    "    return combined_net\n",
    "\n",
    "for i in range(num_train):\n",
    "    train_model('combined' + str(i) + '.h5')"
   ]
  },
  {
   "cell_type": "code",
   "execution_count": 31,
   "metadata": {},
   "outputs": [],
   "source": [
    "import subprocess\n",
    "def split_model(composite, model_folder):\n",
    "    best_model = keras.models.load_model(composite)\n",
    "    history_net = keras.models.Model(inputs=[best_model.get_layer('history_inp').input], outputs=[best_model.get_layer('gru').output])\n",
    "\n",
    "    vector_history_inp = Input((best_model.get_layer('gru').output.shape[1], ), name='vector_history_inp')\n",
    "    concat = Concatenate()([vector_history_inp, best_model.get_layer('move_inp').output, best_model.get_layer('hand_inp').output])\n",
    "    hidden = best_model.get_layer('hidden')(concat)\n",
    "    output = best_model.get_layer('output')(hidden)\n",
    "\n",
    "    move_inp = best_model.get_layer('move_inp').input\n",
    "    hand_inp = best_model.get_layer('hand_inp').input\n",
    "    position_net = keras.models.Model(inputs=[vector_history_inp, move_inp, hand_inp], outputs=[output])\n",
    "\n",
    "    history_net.save(str(model_folder / 'history.h5'))\n",
    "    position_net.save(str(model_folder / 'position.h5'))"
   ]
  },
  {
   "cell_type": "code",
   "execution_count": 34,
   "metadata": {},
   "outputs": [
    {
     "name": "stdout",
     "output_type": "stream",
     "text": [
      "3_29_sim11_model0\n",
      "3_29_sim11_model1\n",
      "3_29_sim11_model2\n",
      "3_29_sim11_model3\n",
      "3_29_sim11_model4\n"
     ]
    }
   ],
   "source": [
    "from pathlib import Path\n",
    "\n",
    "def delete_dir(path):\n",
    "    if not os.path.exists(path):\n",
    "        return\n",
    "    for file in path.iterdir():\n",
    "        os.remove(file)\n",
    "    path.rmdir()\n",
    "\n",
    "for i in range(num_train):\n",
    "    combined_file = 'combined' + str(i) + '.h5'\n",
    "    model_folder_name = data_folder + '_model' + str(i)\n",
    "    \n",
    "    model_folder_path = Path('../models/', model_folder_name)\n",
    "    delete_dir(model_folder_path)\n",
    "    model_folder_path.mkdir()\n",
    "    \n",
    "    split_model(combined_file, model_folder_path)\n",
    "    print(model_folder_name)\n",
    "    subprocess.check_output(['gsutil', 'cp', '-r', '../models/' + model_folder_name + '/*', 'gs://landlord_ai/models/' + model_folder_name])"
   ]
  },
  {
   "cell_type": "code",
   "execution_count": null,
   "metadata": {},
   "outputs": [],
   "source": []
  }
 ],
 "metadata": {
  "kernelspec": {
   "display_name": "Python 3",
   "language": "python",
   "name": "python3"
  },
  "language_info": {
   "codemirror_mode": {
    "name": "ipython",
    "version": 3
   },
   "file_extension": ".py",
   "mimetype": "text/x-python",
   "name": "python",
   "nbconvert_exporter": "python",
   "pygments_lexer": "ipython3",
   "version": "3.7.6"
  }
 },
 "nbformat": 4,
 "nbformat_minor": 4
}
